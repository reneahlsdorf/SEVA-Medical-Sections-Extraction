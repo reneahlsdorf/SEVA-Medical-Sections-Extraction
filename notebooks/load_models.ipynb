{
 "cells": [
  {
   "cell_type": "markdown",
   "metadata": {},
   "source": [
    "# Model Loading Notebook"
   ]
  },
  {
   "cell_type": "markdown",
   "metadata": {},
   "source": [
    "This notebook loads the models stored in the SEVA project on PhysioNet and launches a simple ipywidget to extract sections that are likely not labeled correctly. \n",
    "*Please make sure to install all requirements & unpacking the `model_*.parquet` files to `.../data` before running this notebook.*"
   ]
  },
  {
   "cell_type": "markdown",
   "metadata": {},
   "source": [
    "## Variables"
   ]
  },
  {
   "cell_type": "code",
   "execution_count": null,
   "metadata": {},
   "outputs": [],
   "source": []
  },
  {
   "cell_type": "markdown",
   "metadata": {},
   "source": [
    "## Model Loading"
   ]
  },
  {
   "cell_type": "code",
   "execution_count": null,
   "metadata": {},
   "outputs": [],
   "source": [
    "import pickle"
   ]
  },
  {
   "cell_type": "code",
   "execution_count": null,
   "metadata": {},
   "outputs": [],
   "source": [
    "with open(\"../data/svc_models__v1.0.0.pkl\", \"rb\") as fil:\n",
    "    [results, X_test_, y_test_, X, y, config] = pickle.load(fil)"
   ]
  },
  {
   "cell_type": "markdown",
   "metadata": {},
   "source": [
    "## Widget"
   ]
  },
  {
   "cell_type": "markdown",
   "metadata": {},
   "source": []
  }
 ],
 "metadata": {
  "interpreter": {
   "hash": "a23884a3ba87012f90290ecb1563e90aff7d3705f7bcb5936b2155f67c0e0220"
  },
  "kernelspec": {
   "display_name": "Python 3.10.4 64-bit ('seva')",
   "language": "python",
   "name": "python3"
  },
  "language_info": {
   "name": "python",
   "version": "3.10.4"
  },
  "orig_nbformat": 4
 },
 "nbformat": 4,
 "nbformat_minor": 2
}
